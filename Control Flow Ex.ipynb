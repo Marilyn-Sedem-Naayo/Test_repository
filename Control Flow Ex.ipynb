{
 "cells": [
  {
   "cell_type": "markdown",
   "id": "1dff1392-973b-4e2f-8182-cbb0f5a17efe",
   "metadata": {},
   "source": [
    "# Q1\n",
    "\n",
    "Print the natural numbers from 1 to 10"
   ]
  },
  {
   "cell_type": "code",
   "execution_count": 4,
   "id": "65ff9b53",
   "metadata": {},
   "outputs": [
    {
     "data": {
      "text/plain": [
       "[1, 2, 3, 4, 5, 6, 7, 8, 9, 10]"
      ]
     },
     "execution_count": 4,
     "metadata": {},
     "output_type": "execute_result"
    }
   ],
   "source": [
    "list(range(1,11))"
   ]
  },
  {
   "cell_type": "markdown",
   "id": "8b302e2f-68e3-4e62-839c-d295ee1dfa6e",
   "metadata": {},
   "source": [
    "# Q2\n",
    "Write a code that takes a number from a user, and prints out \"Even\" if the number is an even number, else it prints \"Odd\""
   ]
  },
  {
   "cell_type": "code",
   "execution_count": null,
   "id": "36b8b7f9",
   "metadata": {},
   "outputs": [],
   "source": [
    "number = float(input(\"enter a number:\"))\n",
    "    if digits %2==0:\n",
    "        print(\"even\")\n",
    "    else:\n",
    "        print(\"odd\")"
   ]
  },
  {
   "cell_type": "markdown",
   "id": "d234c056-2c91-40e4-926a-ec9187c0112d",
   "metadata": {},
   "source": [
    "# Q3\n",
    "\n",
    "Write a program that ask for the CWA/GPA score of a student, and assigns \"Distinction\" if the score is between 80 and 100 inclusively, \"Very Good Pass \" if the score is between 75 and 79 inclusively, \"Good Pass\" if the score is between 70 and 74 inclusively, \"Pass\" if the score is between 60 and 69 inclusively, and \"Fail\" if the score is below 60."
   ]
  },
  {
   "cell_type": "code",
   "execution_count": null,
   "id": "95761212",
   "metadata": {},
   "outputs": [],
   "source": [
    "score = float(input(\"enter student's score:\"))\n",
    "for s in score:\n",
    "    if s"
   ]
  },
  {
   "cell_type": "markdown",
   "id": "661b0a44-ce61-4021-93b3-96b61e926f96",
   "metadata": {},
   "source": [
    "# Q4\n",
    "\n",
    "Write a program to print the square and cube of all even numbers and odd numbers respectively in the natural numbers from 1 to 20. That is to say; counting from 1 to 20, if a number is even, print the square of that number, and if the number is odd, print the cube of that number."
   ]
  },
  {
   "cell_type": "code",
   "execution_count": 14,
   "id": "56ddb9c7",
   "metadata": {},
   "outputs": [
    {
     "name": "stdout",
     "output_type": "stream",
     "text": [
      "1\n",
      "4\n",
      "27\n",
      "16\n",
      "125\n",
      "36\n",
      "343\n",
      "64\n",
      "729\n",
      "100\n",
      "1331\n",
      "144\n",
      "2197\n",
      "196\n",
      "3375\n",
      "256\n",
      "4913\n",
      "324\n",
      "6859\n",
      "400\n"
     ]
    }
   ],
   "source": [
    "numbers = (range(1,21))\n",
    "for n in numbers:\n",
    "    if n%2 == 0:\n",
    "        print(n**2)\n",
    "    else:\n",
    "        print(n**3)\n"
   ]
  },
  {
   "cell_type": "markdown",
   "id": "167abf18-3fd3-4be5-98d2-d560ff8c6acc",
   "metadata": {},
   "source": [
    "# Q5\n",
    "\n",
    "Write a program that prints all the divisors of a number inputed by a user"
   ]
  },
  {
   "cell_type": "code",
   "execution_count": 17,
   "id": "0317bfc6",
   "metadata": {},
   "outputs": [
    {
     "name": "stdout",
     "output_type": "stream",
     "text": [
      "enter a number35\n",
      "1\n",
      "5\n",
      "7\n",
      "35\n"
     ]
    }
   ],
   "source": [
    "num= int(input('enter a number'))\n",
    "for i in range(1,num+1):\n",
    "    if num % i== 0:\n",
    "        print(i)"
   ]
  },
  {
   "cell_type": "markdown",
   "id": "aa7aedef-1090-4382-ac49-0265ebf8d530",
   "metadata": {},
   "source": [
    "# Q6\n",
    "\n",
    "Write a code that takes a number from a user a prints out the factorial(!) of that number.\n",
    "\n",
    "**Note:**:\n",
    "\n",
    "2! = 2 *1\n",
    "\n",
    "3! = 3 * 2 * 1\n",
    "\n",
    "4! = 4 * 3 * 2 * 1\n",
    "\n",
    "5! = 5 * 4 * 3 * 2 * 1\n",
    "\n",
    "I hope you get the idea"
   ]
  },
  {
   "cell_type": "markdown",
   "id": "d0ebfe87-6cbf-46f9-9f11-55c0f1464561",
   "metadata": {},
   "source": [
    "# Q7\n",
    "\n",
    "Write a program that ask a user to guess a secret alphabet between a and p. The program should keep prompting the user to guess an alphabet, until he/she guesses the correct alphabet. At the moment (s)he guesses the secret alphabet correctly, the program should prints out \"Congratulations, you have guessed the alphabet right\" and then terminate from the loop"
   ]
  },
  {
   "cell_type": "code",
   "execution_count": null,
   "id": "afcdf8da-bed9-4167-801d-d9c101b5e40b",
   "metadata": {},
   "outputs": [],
   "source": [
    "secret_alphabet = 'c'\n",
    "guess = str(input(\"Guess an alphabet between 'a' and 'p':\"))\n",
    "for alphabet in guess:\n",
    "    while guess != secret_alphabet:\n",
    "        print(input(\"try again\"))\n",
    "    else:\n",
    "        print(\"congratulations, you have guessed the alphabet right\")\n",
    "        break\n",
    "        \n",
    "        "
   ]
  },
  {
   "cell_type": "code",
   "execution_count": null,
   "id": "224f1e58",
   "metadata": {},
   "outputs": [],
   "source": []
  }
 ],
 "metadata": {
  "kernelspec": {
   "display_name": "Python 3 (ipykernel)",
   "language": "python",
   "name": "python3"
  },
  "language_info": {
   "codemirror_mode": {
    "name": "ipython",
    "version": 3
   },
   "file_extension": ".py",
   "mimetype": "text/x-python",
   "name": "python",
   "nbconvert_exporter": "python",
   "pygments_lexer": "ipython3",
   "version": "3.11.5"
  }
 },
 "nbformat": 4,
 "nbformat_minor": 5
}
